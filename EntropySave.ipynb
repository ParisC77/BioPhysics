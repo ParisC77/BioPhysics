{
 "cells": [
  {
   "cell_type": "markdown",
   "metadata": {},
   "source": [
    "Consider a Freely Jointed Chain in 3 dimensions (no bending energy, just entropy) in the large N limit (N is the number of monomers). We are going to describe the last stages of the process of DNA rewinding since we are going to constrain the volume spanned by the polimer to the one of the Capside and we are going to consider a long enough polymer. \n",
    "\n",
    "For a FJC in 3D the distribution of end to end displacement: \n",
    "\n",
    "$$p_N(R) = \\left(\\frac{3}{2\\pi N}\\right)^{3/2} \\frac{4\\pi R^2}{l^3} \\exp{\\left(-\\frac{3 R^2}{2 N l^2}\\right)}$$\n",
    "\n",
    "$l$ is the kuhn length that we are going to fit.\n",
    "\n",
    "The total number of configurations of the chain (walks of N steps) with an end to end length between R and R+dR is: \n",
    "\n",
    "$$n(R) dR = \\mathcal{N} p_N(R) dR$$\n",
    "\n",
    "We are going to consider an excluded volume $v$ and a total volume $V \\propto R^3$ and use mean field Flory theory to compute $\\mathcal{N}$:\n",
    "\n",
    "\n",
    "$$ \\mathcal{N} = C(C-1)^{N-1} \\chi $$\n",
    "\n",
    "With $C=6$ in 3D and: \n",
    "\n",
    "$$\\chi = \\prod_{k=1}^{N-1}\\left(1-k \\frac{v}{V}\\right) = \\left(\\frac{v}{V}\\right)^{N} \\frac{\\left(\\frac{V}{v}\\right) !}{\\left(\\frac{V}{v}-N\\right) !}$$\n",
    "\n",
    "$V/v$ is a large quantity, so let's use Stirling approx:\n",
    "\n",
    "$$ \\ln \\chi \\sim -N+\\left(\\frac{V}{v}-N\\right)\\left[\\ln \\frac{V}{v}-\\ln \\left(\\frac{V}{v}-N\\right)\\right] $$\n",
    "\n",
    "Now we are ready to compute the (constrained) entropy and the free-energy of the system: \n",
    "\n",
    "\n",
    "$$S(R) = k_B \\log{n(R)}$$\n",
    "$$F(R) = -k_B T \\log{n(R)}$$\n",
    "\n",
    "Or in terms of the volume $V$ neglecting terms constant in $V$, $l$ and $N$: \n",
    "\n",
    "$$F(V) \\propto k_B T \\left\\{ N [1 -\\log{(C-1)}] - \\left(\\frac{V}{v}-N\\right) \\left[\\log{\\frac{V}{v}}- \\log\\left({\\frac{V}{v}-N}\\right)\\right] - \\log{\\left[ \\left(\\frac{1}{N}\\right)^{3/2} \\left(\\frac{V^{2/3}}{l^2}\\right)  \\right]}  +  \\frac{3 (4\\pi)^{-2/3}}{2 N l^2} V^{2/3} \\right\\} $$ \n",
    "\n",
    "Then we can compute the pressure as: \n",
    "\n",
    "$$ P = \\left. -\\left( \\frac{\\partial F}{\\partial P}  \\right) \\right|_{T,N} \\propto k_{B} T \\left\\{ \\frac{1}{v} \\log{\\frac{1}{1-(N v)/ V}} + \\frac{1}{V} \\left(\\frac{2}{3} - N\\right)  - \\frac{1}{N (4\\pi)^{2/3} l^2} V^{-1/3}  \\right\\} $$\n",
    "\n",
    "\n",
    "And the force exerted by the motor will be proportional to the pressure."
   ]
  },
  {
   "cell_type": "code",
   "execution_count": 4,
   "metadata": {},
   "outputs": [],
   "source": [
    "import numpy as np \n",
    "import matplotlib.pyplot as plt \n",
    "from scipy.optimize import curve_fit \n",
    "from numpy import log"
   ]
  },
  {
   "cell_type": "code",
   "execution_count": 2,
   "metadata": {},
   "outputs": [],
   "source": [
    "x = np.array([30.37292789969,31.99187600139,33.6108241031,\n",
    "              35.22977220481,36.84872030651,38.46766840822,\n",
    "              40.65324834552,42.27219644723,43.89114454894,\n",
    "              45.51009265064,47.12904075235,48.74798885406,50.36693695576,\n",
    "              51.98588505747,53.60483315918,55.22378126088,\n",
    "              56.84272936259,58.4616774643,60.080625566,\n",
    "              61.69957366771,63.31852176942,64.93746987113,\n",
    "              66.55641797283,68.17536607454,69.79431417625,\n",
    "              71.41326227795,73.03221037966,74.65115848137,\n",
    "              76.27010658307,77.88905468478,79.50800278649,\n",
    "              81.12695088819,82.7458989899,84.36484709161,\n",
    "              85.98379519331,87.60274329502,89.22169139673,\n",
    "              90.84063949843,92.45958760014,94.07853570185,\n",
    "              95.69748380355,97.31643190526,98.93538000697,\n",
    "              100.5543281087,102.1732762104,103.7922243121])\n",
    "\n",
    "\n",
    "y = np.array([-0.5429885000496,-0.6086670962625,-0.1817562208784,\n",
    "              0.01527956776048,0.01527956776048,-0.08323832655894,\n",
    "              -0.08323832655894,0.1137974620799,0.4093511450382,\n",
    "              1.033297809061,1.263172895806,1.460208684445,\n",
    "              1.624405174978,1.952798156042,2.576744820065,\n",
    "              3.200691484088,3.726120253792,4.842656389412,\n",
    "              6.057710419352,7.502639536036,8.750532864082,\n",
    "              9.867068999703,11.27915881828,13.15099881035,\n",
    "              16.00801774561,18.17541142064,19.94873351839,\n",
    "              21.49218052939,22.70723455933,24.11932437791,\n",
    "              25.89264647566,28.15855804501,30.6543447011,\n",
    "              33.47852433826,36.99232923565,39.84934817091,\n",
    "              42.11525974026,43.92142113612,45.46486814712,\n",
    "              46.81127936949,47.92781550511,48.88015515019,\n",
    "              49.79965549717,50.52212005552,51.34310250818,\n",
    "              51.9670491722])\n"
   ]
  },
  {
   "cell_type": "code",
   "execution_count": 10,
   "metadata": {},
   "outputs": [],
   "source": [
    "def Force(x,k,v,l):\n",
    "    N = 19000\n",
    "    R = 20\n",
    "    \n",
    "    n = x*N/100\n",
    "    V = 4/3*pi*(R**3)\n",
    "    return k * (  1/v * log(1/(1-n*v/V)) + 1/ V * (2/3-n) - 1/(n*(4*pi)**(2/3)*l**2) * V**(-1/3) ) "
   ]
  },
  {
   "cell_type": "code",
   "execution_count": 21,
   "metadata": {
    "scrolled": true
   },
   "outputs": [
    {
     "name": "stderr",
     "output_type": "stream",
     "text": [
      "/opt/anaconda3/lib/python3.7/site-packages/ipykernel_launcher.py:7: RuntimeWarning: invalid value encountered in log\n",
      "  import sys\n"
     ]
    }
   ],
   "source": [
    "popt, pcov = curve_fit(Force,x,y)"
   ]
  },
  {
   "cell_type": "code",
   "execution_count": 22,
   "metadata": {},
   "outputs": [
    {
     "data": {
      "text/plain": [
       "[<matplotlib.lines.Line2D at 0x7fc2c3d15710>]"
      ]
     },
     "execution_count": 22,
     "metadata": {},
     "output_type": "execute_result"
    },
    {
     "data": {
      "image/png": "[encoded data removed]",
      "text/plain": [
       "<Figure size 576x432 with 1 Axes>"
      ]
     },
     "metadata": {
      "needs_background": "light"
     },
     "output_type": "display_data"
    }
   ],
   "source": [
    "plt.figure(figsize = (8,6))\n",
    "ax = plt.gca()\n",
    "ax.plot(x, y, 'b-')\n",
    "ax.plot(x,Force(x,*popt), 'g--')"
   ]
  },
  {
   "cell_type": "code",
   "execution_count": 23,
   "metadata": {},
   "outputs": [
    {
     "data": {
      "text/plain": [
       "array([9.67119816e+01, 1.38143839e+00, 4.96902904e+04])"
      ]
     },
     "execution_count": 23,
     "metadata": {},
     "output_type": "execute_result"
    }
   ],
   "source": [
    "popt"
   ]
  }
 ],
 "metadata": {
  "kernelspec": {
   "display_name": "Python 3",
   "language": "python",
   "name": "python3"
  },
  "language_info": {
   "codemirror_mode": {
    "name": "ipython",
    "version": 3
   },
   "file_extension": ".py",
   "mimetype": "text/x-python",
   "name": "python",
   "nbconvert_exporter": "python",
   "pygments_lexer": "ipython3",
   "version": "3.7.4"
  }
 },
 "nbformat": 4,
 "nbformat_minor": 2
}
