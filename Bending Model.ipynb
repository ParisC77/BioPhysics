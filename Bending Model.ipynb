{
 "cells": [
  {
   "cell_type": "markdown",
   "metadata": {},
   "source": [
    "We suppose there is a sphere of radius R_c (radius of capsid) within which a tube of radius r_T and length L has to arrange itself. The way it does that is by spiralling. The tube cannot intersect itself, obviously. The ring-like segments of the tube like to have as small a curvature as possible, given the space at their disposal. We assume, for the moment that the particular segments are separate. That way our problem reduces to placing rings of different radii, all parallel to eachother, within the sphere, with a common center. We have: \n",
    "Rc=20nm\n",
    "rT=1.00nm\n",
    "L=19000/0.33 (?)\n",
    "The circumference of each shell is >>2r_T, so we compute the number Ni of tube segments within 1 half of shell i as\n",
    "Ni=2int[pi*((Rc-rT)-2(i-1)rT)/(2rT)]=2int[pi*((Rc/rT)+1-2i)]=*insert values Rc and rT*=2 int[pi(17-2i)/2] \n",
    "where int[.] denotes the rounding up the argument to the first available lower integer.\n",
    "The number of shells will be ns=Rc/(2rT)=8.\n",
    "Let ang_i be the angle between the radii conjoining the center with a tube center in shell i and a reference radius.\n",
    "That angle will be ang_i=180/N_i degrees, i.e. 2pi/N_i radians.\n",
    "From geometrical considerations, the radius of the ith tube segment ring in shell j will be\n",
    "d_ij=r_j*cos(i*ang_j-pi/2)= r_j*sin(i*ang_j)=((Rc-rT)-2(j-1)rT)*sin(i*ang_j)\n",
    "with j=1,2,..,ns and i=1,2,...,N_j"
   ]
  },
  {
   "cell_type": "code",
   "execution_count": 216,
   "metadata": {},
   "outputs": [],
   "source": [
    "import numpy as np\n",
    "import sympy as sp\n",
    "import math\n",
    "import matplotlib.pyplot as plt "
   ]
  },
  {
   "cell_type": "code",
   "execution_count": 230,
   "metadata": {},
   "outputs": [
    {
     "name": "stdout",
     "output_type": "stream",
     "text": [
      "10\n"
     ]
    }
   ],
   "source": [
    "Rc=20\n",
    "rT=1.\n",
    "L=19000*0.33\n",
    "ns=int(Rc/(2*rT))\n",
    "print(ns)\n",
    "nterms=0"
   ]
  },
  {
   "cell_type": "code",
   "execution_count": 231,
   "metadata": {},
   "outputs": [],
   "source": [
    "N=np.zeros(int(ns),dtype=float)\n",
    "ang=np.zeros(int(ns),dtype=float)"
   ]
  },
  {
   "cell_type": "code",
   "execution_count": 232,
   "metadata": {},
   "outputs": [
    {
     "name": "stdout",
     "output_type": "stream",
     "text": [
      "29.0\n",
      "27.0\n",
      "24.0\n",
      "21.0\n",
      "18.0\n",
      "16.0\n",
      "13.0\n",
      "10.0\n",
      "8.0\n",
      "5.0\n",
      "171\n"
     ]
    }
   ],
   "source": [
    "for i in range (0,int(ns)):\n",
    "    N[i]=int(np.pi*((Rc-rT)-np.sqrt(3)*i*rT)/(2*rT));\n",
    "    print(N[i])\n",
    "    nterms=nterms+int(N[i])\n",
    "    ang[i]=np.pi/N[i]\n",
    "print(nterms)"
   ]
  },
  {
   "cell_type": "code",
   "execution_count": 233,
   "metadata": {},
   "outputs": [
    {
     "name": "stdout",
     "output_type": "stream",
     "text": [
      "0\n",
      "0.10833078115826873\n",
      "1\n",
      "0.11635528346628864\n",
      "2\n",
      "0.1308996938995747\n",
      "3\n",
      "0.14959965017094254\n",
      "4\n",
      "0.17453292519943295\n",
      "5\n",
      "0.19634954084936207\n",
      "6\n",
      "0.241660973353061\n",
      "7\n",
      "0.3141592653589793\n",
      "8\n",
      "0.39269908169872414\n",
      "9\n",
      "0.6283185307179586\n"
     ]
    }
   ],
   "source": [
    "for i in range(0,ns):\n",
    "    print(i)\n",
    "    print(ang[i])"
   ]
  },
  {
   "cell_type": "code",
   "execution_count": 234,
   "metadata": {},
   "outputs": [],
   "source": [
    "l=np.zeros(nterms,dtype=float)\n",
    "l_fin=np.zeros(nterms,dtype=float)"
   ]
  },
  {
   "cell_type": "code",
   "execution_count": 235,
   "metadata": {},
   "outputs": [
    {
     "name": "stdout",
     "output_type": "stream",
     "text": [
      "[1.29073047e+01 2.56632831e+01 3.81183830e+01 5.01265796e+01\n",
      " 6.15470880e+01 7.22460130e+01 8.20979196e+01 9.09873031e+01\n",
      " 9.88099437e+01 1.05474128e+02 1.10901725e+02 1.15029100e+02\n",
      " 1.17807864e+02 1.19205439e+02 1.19205439e+02 1.17807864e+02\n",
      " 1.15029100e+02 1.10901725e+02 1.05474128e+02 9.88099437e+01\n",
      " 9.09873031e+01 8.20979196e+01 7.22460130e+01 6.15470880e+01\n",
      " 5.01265796e+01 3.81183830e+01 2.56632831e+01 1.29073047e+01\n",
      " 1.46198973e-14 1.25958170e+01 2.50212972e+01 3.71084073e+01\n",
      " 4.86936899e+01 5.96204738e+01 6.97409931e+01 7.89183851e+01\n",
      " 8.70285413e+01 9.39617858e+01 9.96243583e+01 1.03939682e+02\n",
      " 1.06849400e+02 1.08314164e+02 1.08314164e+02 1.06849400e+02\n",
      " 1.03939682e+02 9.96243583e+01 9.39617858e+01 8.70285413e+01\n",
      " 7.89183851e+01 6.97409931e+01 5.96204738e+01 4.86936899e+01\n",
      " 3.71084073e+01 2.50212972e+01 1.25958170e+01 1.32871391e-14\n",
      " 1.27413049e+01 2.52646026e+01 3.73556159e+01 4.88074642e+01\n",
      " 5.94242033e+01 6.90241779e+01 7.74431296e+01 8.45370078e+01\n",
      " 9.01844345e+01 9.42887804e+01 9.67798192e+01 9.76149285e+01\n",
      " 9.67798192e+01 9.42887804e+01 9.01844345e+01 8.45370078e+01\n",
      " 7.74431296e+01 6.90241779e+01 5.94242033e+01 4.88074642e+01\n",
      " 3.73556159e+01 2.52646026e+01 1.27413049e+01 1.19543810e-14\n",
      " 1.29267535e+01 2.55647448e+01 3.76316619e+01 4.88579498e+01\n",
      " 5.89928319e+01 6.78099116e+01 7.51122299e+01 8.07366651e+01\n",
      " 8.45575766e+01 8.64896116e+01 8.64896116e+01 8.45575766e+01\n",
      " 8.07366651e+01 7.51122299e+01 6.78099116e+01 5.89928319e+01\n",
      " 4.88579498e+01 3.76316619e+01 2.55647448e+01 1.29267535e+01\n",
      " 1.06216228e-14 1.31710990e+01 2.59420008e+01 3.79246680e+01\n",
      " 4.87550134e+01 5.81039624e+01 6.56874519e+01 7.12750614e+01\n",
      " 7.46970142e+01 7.58493361e+01 7.46970142e+01 7.12750614e+01\n",
      " 6.56874519e+01 5.81039624e+01 4.87550134e+01 3.79246680e+01\n",
      " 2.59420008e+01 1.31710990e+01 9.28886467e-15 1.26743432e+01\n",
      " 2.48616185e+01 3.60934757e+01 4.59382809e+01 5.40177038e+01\n",
      " 6.00212565e+01 6.37182261e+01 6.49665399e+01 6.37182261e+01\n",
      " 6.00212565e+01 5.40177038e+01 4.59382809e+01 3.60934757e+01\n",
      " 2.48616185e+01 1.26743432e+01 7.95610652e-15 1.29430871e+01\n",
      " 2.51339689e+01 3.58641559e+01 4.45100485e+01 5.05691788e+01\n",
      " 5.36894123e+01 5.36894123e+01 5.05691788e+01 4.45100485e+01\n",
      " 3.58641559e+01 2.51339689e+01 1.29430871e+01 6.62334836e-15\n",
      " 1.33498270e+01 2.53928798e+01 3.49503007e+01 4.10865427e+01\n",
      " 4.32009475e+01 4.10865427e+01 3.49503007e+01 2.53928798e+01\n",
      " 1.33498270e+01 5.29059021e-15 1.23676211e+01 2.28523840e+01\n",
      " 2.98580786e+01 3.23181514e+01 2.98580786e+01 2.28523840e+01\n",
      " 1.23676211e+01 3.95783206e-15 1.25993856e+01 2.03862342e+01\n",
      " 2.03862342e+01 1.25993856e+01 2.62507391e-15]\n"
     ]
    }
   ],
   "source": [
    "s=0\n",
    "for i in range (1,ns+1):\n",
    "    for j in range (1,int(N[i-1])+1):\n",
    "        l[s]=2*np.pi*((Rc-rT)-np.sqrt(3)*(i-1)*rT)*math.sin(j*ang[i-1])\n",
    "        s=s+1\n",
    "print(l)"
   ]
  },
  {
   "cell_type": "code",
   "execution_count": 236,
   "metadata": {},
   "outputs": [],
   "source": [
    "l_inv=np.sort(l)"
   ]
  },
  {
   "cell_type": "code",
   "execution_count": 237,
   "metadata": {},
   "outputs": [
    {
     "name": "stdout",
     "output_type": "stream",
     "text": [
      "[1.19205439e+02 1.19205439e+02 1.17807864e+02 1.17807864e+02\n",
      " 1.15029100e+02 1.15029100e+02 1.10901725e+02 1.10901725e+02\n",
      " 1.08314164e+02 1.08314164e+02 1.06849400e+02 1.06849400e+02\n",
      " 1.05474128e+02 1.05474128e+02 1.03939682e+02 1.03939682e+02\n",
      " 9.96243583e+01 9.96243583e+01 9.88099437e+01 9.88099437e+01\n",
      " 9.76149285e+01 9.67798192e+01 9.67798192e+01 9.42887804e+01\n",
      " 9.42887804e+01 9.39617858e+01 9.39617858e+01 9.09873031e+01\n",
      " 9.09873031e+01 9.01844345e+01 9.01844345e+01 8.70285413e+01\n",
      " 8.70285413e+01 8.64896116e+01 8.64896116e+01 8.45575766e+01\n",
      " 8.45575766e+01 8.45370078e+01 8.45370078e+01 8.20979196e+01\n",
      " 8.20979196e+01 8.07366651e+01 8.07366651e+01 7.89183851e+01\n",
      " 7.89183851e+01 7.74431296e+01 7.74431296e+01 7.58493361e+01\n",
      " 7.51122299e+01 7.51122299e+01 7.46970142e+01 7.46970142e+01\n",
      " 7.22460130e+01 7.22460130e+01 7.12750614e+01 7.12750614e+01\n",
      " 6.97409931e+01 6.97409931e+01 6.90241779e+01 6.90241779e+01\n",
      " 6.78099116e+01 6.78099116e+01 6.56874519e+01 6.56874519e+01\n",
      " 6.49665399e+01 6.37182261e+01 6.37182261e+01 6.15470880e+01\n",
      " 6.15470880e+01 6.00212565e+01 6.00212565e+01 5.96204738e+01\n",
      " 5.96204738e+01 5.94242033e+01 5.94242033e+01 5.89928319e+01\n",
      " 5.89928319e+01 5.81039624e+01 5.81039624e+01 5.40177038e+01\n",
      " 5.40177038e+01 5.36894123e+01 5.36894123e+01 5.05691788e+01\n",
      " 5.05691788e+01 5.01265796e+01 5.01265796e+01 4.88579498e+01\n",
      " 4.88579498e+01 4.88074642e+01 4.88074642e+01 4.87550134e+01\n",
      " 4.87550134e+01 4.86936899e+01 4.86936899e+01 4.59382809e+01\n",
      " 4.59382809e+01 4.45100485e+01 4.45100485e+01 4.32009475e+01\n",
      " 4.10865427e+01 4.10865427e+01 3.81183830e+01 3.81183830e+01\n",
      " 3.79246680e+01 3.79246680e+01 3.76316619e+01 3.76316619e+01\n",
      " 3.73556159e+01 3.73556159e+01 3.71084073e+01 3.71084073e+01\n",
      " 3.60934757e+01 3.60934757e+01 3.58641559e+01 3.58641559e+01\n",
      " 3.49503007e+01 3.49503007e+01 3.23181514e+01 2.98580786e+01\n",
      " 2.98580786e+01 2.59420008e+01 2.59420008e+01 2.56632831e+01\n",
      " 2.56632831e+01 2.55647448e+01 2.55647448e+01 2.53928798e+01\n",
      " 2.53928798e+01 2.52646026e+01 2.52646026e+01 2.51339689e+01\n",
      " 2.51339689e+01 2.50212972e+01 2.50212972e+01 2.48616185e+01\n",
      " 2.48616185e+01 2.28523840e+01 2.28523840e+01 2.03862342e+01\n",
      " 2.03862342e+01 1.33498270e+01 1.33498270e+01 1.31710990e+01\n",
      " 1.31710990e+01 1.29430871e+01 1.29430871e+01 1.29267535e+01\n",
      " 1.29267535e+01 1.29073047e+01 1.29073047e+01 1.27413049e+01\n",
      " 1.27413049e+01 1.26743432e+01 1.26743432e+01 1.25993856e+01\n",
      " 1.25993856e+01 1.25958170e+01 1.25958170e+01 1.23676211e+01\n",
      " 1.23676211e+01 1.46198973e-14 1.32871391e-14 1.19543810e-14\n",
      " 1.06216228e-14 9.28886467e-15 7.95610652e-15 6.62334836e-15\n",
      " 5.29059021e-15 3.95783206e-15 2.62507391e-15]\n"
     ]
    }
   ],
   "source": [
    "for i in range(0,nterms):\n",
    "    l_fin[i]=l_inv[nterms-1-i]\n",
    "print(l_fin)"
   ]
  },
  {
   "cell_type": "code",
   "execution_count": 240,
   "metadata": {},
   "outputs": [
    {
     "name": "stdout",
     "output_type": "stream",
     "text": [
      "6270.0\n",
      "9184.557557872877\n",
      "72\n",
      "6287.364127436075\n"
     ]
    }
   ],
   "source": [
    "dna=19000*0.33\n",
    "print(dna)\n",
    "len=0\n",
    "for i in range(0,nterms):\n",
    "    len=len+l_fin[i]\n",
    "print(len)\n",
    "len=0\n",
    "for i in range(0,nterms):\n",
    "    len=len+l_fin[i]\n",
    "    if len>=dna:\n",
    "        print(i)\n",
    "        break\n",
    "print(len)"
   ]
  },
  {
   "cell_type": "code",
   "execution_count": null,
   "metadata": {},
   "outputs": [],
   "source": []
  }
 ],
 "metadata": {
  "kernelspec": {
   "display_name": "Python 3",
   "language": "python",
   "name": "python3"
  },
  "language_info": {
   "codemirror_mode": {
    "name": "ipython",
    "version": 3
   },
   "file_extension": ".py",
   "mimetype": "text/x-python",
   "name": "python",
   "nbconvert_exporter": "python",
   "pygments_lexer": "ipython3",
   "version": "3.7.3"
  }
 },
 "nbformat": 4,
 "nbformat_minor": 2
}
