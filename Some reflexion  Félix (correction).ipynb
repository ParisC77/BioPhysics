{
 "cells": [
  {
   "cell_type": "markdown",
   "metadata": {},
   "source": [
    "# What happend in the vesicule?"
   ]
  },
  {
   "cell_type": "markdown",
   "metadata": {},
   "source": [
    "## -Volume occupation of the vesicule"
   ]
  },
  {
   "cell_type": "markdown",
   "metadata": {},
   "source": [
    "If we assume that our DNA is just a cylinder of lenght $L = N l_{BP}$ and radius $r_{BP}$, we can compute the typical volume occupy by our DNA in the vesicule: $V_{DNA} = \\pi r_{BP}^2 L$. We have to compare this volume to the volume of the vesicule. If we assume that our vesicule is a sphere of radius $r_{vesi}$, we have $V_{vesi}=\\frac{4}{3}\\pi r_{vesi}^3$. \n",
    "\n",
    "Let's put some physical value in these equations: I have found that $l_{BP}=0.33nm$, $r_{BP}=1.25nm$, $r_{vesi}=20nm$.\n",
    "\n",
    "So we found that $V_{DNA}=30 777nm^3$, $V_{vesi}=33 510nm^3$.\n",
    "\n",
    "We can see by this little resonnign that they will be interaction energy (cause by electrostatic repulsion)."
   ]
  },
  {
   "cell_type": "code",
   "execution_count": 11,
   "metadata": {},
   "outputs": [
    {
     "name": "stdout",
     "output_type": "stream",
     "text": [
      "30777.790528137513\n",
      "33510.32163829113\n"
     ]
    }
   ],
   "source": [
    "import numpy as np\n",
    "N = 19000\n",
    "r1 = 1.25*10**-9\n",
    "r2 = 0.33*10**-9\n",
    "r3 = 20*10**-9\n",
    "V_cy = np.pi*(r1**2)*N*r2\n",
    "print(V_cy*(10**27))\n",
    "V_vesi = 4/3 * np.pi * r3**3\n",
    "print(V_vesi*(10**27))"
   ]
  },
  {
   "cell_type": "markdown",
   "metadata": {},
   "source": [
    "## -Persistence length of the DNA and size of the vesicule"
   ]
  },
  {
   "cell_type": "markdown",
   "metadata": {},
   "source": [
    "The persistence length of the DNA is ∼50nm (150 bp) (in 0.1 M aqueous NaCl) but the length of the vesicule is ∼40nm. We know that a large persistance length means also large rigidity. Since that the two length are at the same order we will have a huge bending energy in our systems."
   ]
  },
  {
   "cell_type": "markdown",
   "metadata": {},
   "source": [
    "## -Interaction between the DNA & the vesicule"
   ]
  },
  {
   "cell_type": "markdown",
   "metadata": {},
   "source": [
    "The interaction between the DNA & the vesicule will scale as $\\sqrt{N}$ where the two others will scale with $N$. So as a first approximation we can neglect this term."
   ]
  },
  {
   "cell_type": "markdown",
   "metadata": {},
   "source": [
    "### Conclusion: Bending energy + Interaction energy"
   ]
  },
  {
   "cell_type": "markdown",
   "metadata": {},
   "source": [
    "To minimize the bending energy we have to minimize the curvature of our DNA and to minimize the interaction energy we have to maximize the distance between each \"pieces\" (a set of BP of length ~40nm). Is it possible to minimize the both ernergy in the same time? No because we are inside a vesicule (finite volume)."
   ]
  },
  {
   "cell_type": "markdown",
   "metadata": {},
   "source": [
    "# The interaction energy"
   ]
  },
  {
   "cell_type": "markdown",
   "metadata": {},
   "source": [
    "In fact we can write this interaction like an electrostatic energy. If we note $q$ the charge of one B.P, $l$ the lenght of one B.P and $k$ the Coulomb constante, $r$ the distance between the two B.P. We have that the interaction potential between two B.P $$V_{int}(r)=k \\frac{q^2}{r}$$\n",
    "\n",
    "In fact I think that this energy is to complicated for us. If we want to compute the full energy we have to take in account all oh the B.P with all other B.P and to know the distance $r$ => Impossible. But in fact we are in an aqueous solution so we will have a strong screening constante so I think that we can take a potential of the form: $$V_{int}=C(r_m?)e^{-\\frac{r_m}{r_0}}$$\n",
    "Where $r_m$ is the mean distance between two DNA pieces and $r_0$ is the typical length of eletrostatic decay in NaCl solution (see litterature for more details and for a typical value).\n",
    "\n",
    "So now we can naively compute the full energy: $$E_{int}= \\alpha N V_{int}= \\alpha N C e^{-\\frac{r_m}{r_0}}$$\n",
    "\n",
    "$\\alpha$ is just a numerical coefficient that depend on N at small N (low density)  but is constant rapidely if we assume only n.n interaction (which is the case with this potential). So in this case our piece of DNA will have at most 6 neighbord so $\\alpha_{max} = \\frac{6}{2}=3$.\n"
   ]
  },
  {
   "cell_type": "markdown",
   "metadata": {},
   "source": [
    "# The bending energy"
   ]
  },
  {
   "cell_type": "markdown",
   "metadata": {},
   "source": [
    "The bending energy of a semi felxible polymer is: $$H=\\frac{3 k_{B} T}{2 b^{2}} \\sum_{j=1}^{N}\\left(\\mathbf{r}_{j}-\\mathbf{r}_{j-1}\\right)^{2}=\\frac{3 k_{B} T}{2 b} \\int_{0}^{L} d s\\left|\\frac{d \\mathbf{r}(s)}{d s}\\right|^{2}$$"
   ]
  },
  {
   "cell_type": "markdown",
   "metadata": {},
   "source": [
    "Where $b$ is the Kuhn length (~the monomer size or in our case maybe the persitence length beacause we are the situation of large persitence length), $N$ the number of monomers and $L=N b$ the total length."
   ]
  },
  {
   "cell_type": "markdown",
   "metadata": {},
   "source": [
    "## Calculations\n",
    "\n",
    "We will consider that the polymer will try to minimize is curvature. To do so we will cut the capsule into spherical layers. Each layers will have a radius $R_j$ with $R_0 = \\frac{d}{2}$. To minimize his curvature the polymer will spiral around each layers.\n",
    "<img src=\"spiral.png\">\n",
    "\n",
    "To simplify we will consider only circle following the surface of each layers. I assume thaht each circle are at a distance $r_m$ from the other, so $h_m=\\sqrt{2}r_m$. So now we have $h_i = i \\sqrt{2} r_m$. We can determine our $i_{max}=\\frac{R_j}{h_m}=\\frac{R_j}{\\sqrt{2}r_m}$. so now we know the number of circle in the layer $j$: $Cj=1 + 2 i_{max} = 1 + \\frac{\\sqrt{2}R_j}{r_m} $. Now we compute the radius of the circle $i$ in the layer $j$ will be $r_i = R_j \\sqrt{1-2i^2\\left(\\frac{r_m}{R_j}\\right)^2}$.\n",
    "\n",
    "<img src=\"circle2.png\">\n",
    "\n",
    "let's compute the length $L_j$ of the polymer on the layer $j$:\n",
    "$$L_j = 2 \\pi(R_j + 2 \\sum _{i = 1} ^{i_{max}} r_i )= \\frac{4 \\pi}{R_j} \\int_{0}^{R_j} dh r(h) - 2 \\pi R_j = \\frac{4 \\pi}{R_j} \\int_{0}^{R_j} dh R_j \\sqrt{1 - (\\frac{h}{R_j})^2} - 2 \\pi R_j  = 4 \\pi R_j \\int_{0}^{1} du \\sqrt{1-u^2} - 2 \\pi R_j $$\n",
    "\n",
    "On a circle the curvature is constant, then the energy due to curvature is $H^{curv}_{ij} = \\frac{3 K_B T b \\pi}{r_i} = \\frac{3 K_B T b \\pi}{R_j \\sqrt{1-\\left(\\frac{i r_m}{R_j}\\right)^2}}$. Then the curvature energy of a layer j is\n",
    "\n",
    "$$H^{curv}_{j} = \\frac{3 K_B T b \\pi}{R_j}\\int_{0}^{\\frac{R_j}{\\sqrt{2}r_m}}dx \\frac{1}{\\sqrt{1-\\left(\\frac{x r_m}{R_j}\\right)^2}} = \\frac{3 K_B T b \\pi}{r_m}\\int_{0}^{ \\frac{1}{\\sqrt{2}}}du \\frac{1}{\\sqrt{1-u^2}} = \\frac{3 K_B T b \\pi}{r_m} \\sin ^{-1} \\frac{1}{\\sqrt{2}}   \\rightarrow $$ independent of $j$ ??? \n",
    "\n",
    "We can also introduce an energy due to electrostatic interaction of the polymer with itself. For a circle $i$ we will only consider interaction with nearest neighbor $i-1$ and $i+1$. Introducing the charge of the polymer on circle j : $2 \\pi r_i \\lambda _0$ where $\\lambda _0$ is the lineic density of charge. Considering that nearest neighbor have the same radius $ H^{el}_{ij} = \\frac{2 \\pi}{\\epsilon _0 R_j} (r_i \\lambda _0)^2 $ Then the electrostatic energy of a layer j is\n",
    "\n",
    "$$ H^{el}_{ij} = \\frac{2 \\pi \\lambda _0^2 R_j}{\\epsilon _0 } \\int_{0}^{\\frac{R_j}{\\sqrt{2}r_m}} dx \\left[1- \\left(\\frac{x r_m}{R_j}\\right)^2\\right] = \\frac{2 \\pi \\lambda _0^2 R_j ^2}{\\epsilon _0 r_m } \\int_{0}^{\\frac{1}{\\sqrt{2}}} du \\left[1- u^2\\right] = \\frac{2 \\pi \\lambda _0^2 R_j ^2}{\\epsilon _0 r_m }\\left[\\frac{1}{\\sqrt{2}}- \\frac{2^{-3/2}}{3}\\right]$$"
   ]
  },
  {
   "cell_type": "code",
   "execution_count": null,
   "metadata": {},
   "outputs": [],
   "source": []
  }
 ],
 "metadata": {
  "kernelspec": {
   "display_name": "Python 3",
   "language": "python",
   "name": "python3"
  },
  "language_info": {
   "codemirror_mode": {
    "name": "ipython",
    "version": 3
   },
   "file_extension": ".py",
   "mimetype": "text/x-python",
   "name": "python",
   "nbconvert_exporter": "python",
   "pygments_lexer": "ipython3",
   "version": "3.7.3"
  }
 },
 "nbformat": 4,
 "nbformat_minor": 2
}
