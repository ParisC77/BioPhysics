{
 "cells": [
  {
   "cell_type": "markdown",
   "metadata": {},
   "source": [
    "$$\\begin{cases} f = C(\\frac{V_{occuy}}{V_{capsule}})^{\\alpha}, & \\mbox{if } V_{occupy}>V_{crit} \\\\ f = 0, & \\mbox{if } V_{occupy}<V_{crit} \\end{cases}$$"
   ]
  },
  {
   "cell_type": "markdown",
   "metadata": {},
   "source": [
    "$$V_{capsule} = \\frac{4}{3} \\pi R_{capsule}^3, \\mbox{ with } R_{capsule}=20nm$$"
   ]
  },
  {
   "cell_type": "markdown",
   "metadata": {},
   "source": [
    "## With just basic consideration:\n",
    "$$V_{occupy} = n\\frac{4}{3} \\pi R_{BP}^3, \\mbox{ with } R_{BP}=\\mbox{avoiding radius}, n = \\mbox{number of polymers} $$"
   ]
  },
  {
   "cell_type": "markdown",
   "metadata": {},
   "source": [
    "At critical point (suppose that $V_{crit}=V_{capsule}$): $$V_{capsule}=V_{occupy}$$ and $$x_{crit}=\\mbox{ Percentage of genome packaged at this point}= \\frac{n}{N}\\simeq\\frac{42}{100}$$ With $$N = 19 000$$\n",
    "$$V_{capsule}=V_{occupy}\\Leftrightarrow n = (\\frac{R_{capsule}}{R_{BP}})^3 \\Leftrightarrow R_{BP}=\\sqrt[3]{\\frac{1}{n}}R_{capsule}$$\n",
    "With $$R_{capsule}=20nm$$\n",
    "$$R_{BP}\\simeq 1nm$$"
   ]
  },
  {
   "cell_type": "markdown",
   "metadata": {},
   "source": [
    "## With the flory theory:\n",
    "$$\\langle R_{DNA}^{2}\\rangle\\approx B n^{2 \\nu},\\mbox{ with } \\nu \\approx \\frac{3}{5} $$\n",
    "Let's take(we assume that our DNA occupy the capsule like a sphere of radius $R_{DNA}$) : $$ R_{DNA} = \\sqrt{B}n^{\\frac{3}{5}} \\Rightarrow V_{occupy}=\\frac{4}{3} \\pi B^{\\frac{3}{2}}n^{3\\nu}$$"
   ]
  },
  {
   "cell_type": "markdown",
   "metadata": {},
   "source": [
    "$$ V_{capsule}=V_{occupy} \\Leftrightarrow n_{crit} = (B^{-\\frac{3}{2}}R_{capsule}^3)^{\\frac{1}{3\\nu}} $$"
   ]
  },
  {
   "cell_type": "markdown",
   "metadata": {},
   "source": [
    "$$\\begin{cases} f = C(\\frac{{B^{\\frac{3}{2}}n^{3\\nu}}}{R_{capsule}^3})^{\\alpha}, & \\mbox{if } n>n_{crit} \\\\ f = 0, & \\mbox{if } n<n_{crit} \\end{cases}$$"
   ]
  },
  {
   "cell_type": "markdown",
   "metadata": {},
   "source": [
    "$$B^{\\frac{3}{2}} = n_{crit}^{-3\\nu}  R_{capsule}^3$$"
   ]
  },
  {
   "cell_type": "markdown",
   "metadata": {},
   "source": [
    "$$\\begin{cases} f = C(\\frac{n}{n_{crit}})^{\\beta}, & \\mbox{if } n>n_{crit} \\\\ f = 0, & \\mbox{if } n<n_{crit} \\end{cases} \\mbox{ with } \\beta = 3 \\nu \\alpha$$ "
   ]
  },
  {
   "cell_type": "markdown",
   "metadata": {},
   "source": [
    "$$\\begin{cases} f = C(\\frac{x}{x_{crit}})^{\\beta}, & \\mbox{if } x>x_{crit} \\\\ f = 0, & \\mbox{if } x<x_{crit} \\end{cases} \\mbox{ with } \\beta = 3\\nu \\alpha \\mbox{, } x = \\frac{n}{N} \\mbox{, } x_{crit} = \\frac{ (B^{-\\frac{3}{2}}R_{capsule}^3)^{\\frac{1}{3\\nu}}}{N}  $$ "
   ]
  },
  {
   "cell_type": "markdown",
   "metadata": {},
   "source": [
    "$$B = (R_{capsule}^{3}(N x_{crit})^{\\frac{1}{3\\nu}})^{\\frac{2}{3}}$$"
   ]
  },
  {
   "cell_type": "markdown",
   "metadata": {},
   "source": [
    "We can define (for a smooth fit):\n",
    "$$F(x,h,(C,x_{crit},\\beta))=\\frac{1+\\tanh{(h(x-x_{crit}))}}{2}C(\\frac{x}{x_{crit}})^{\\beta}$$\n",
    "$$\\lim_{h \\to +\\infty} F(x,h,(C,x_{crit},\\beta))=\\begin{cases} C(\\frac{x}{x_{crit}})^{\\beta}, & \\mbox{if } x>x_{crit} \\\\ 0, & \\mbox{if } x<x_{crit} \\end{cases}$$"
   ]
  },
  {
   "cell_type": "code",
   "execution_count": 19,
   "metadata": {},
   "outputs": [
    {
     "name": "stdout",
     "output_type": "stream",
     "text": [
      "B^1/2=nm 0.023098173033581113\n",
      "Seems Legit\n"
     ]
    }
   ],
   "source": [
    "import numpy as np\n",
    "##See notebook basicfit for the results\n",
    "x_crit=41.4\n",
    "C=0.48\n",
    "beta=6.70\n",
    "R=20*10**(-9)\n",
    "N=1900\n",
    "\n",
    "B = ((R**3)*((N*x_crit)**(-9/5)))**(2/3)\n",
    "print(\"B^1/2=nm\",np.sqrt(B)*10**9)\n",
    "print(\"Seems Legit\")"
   ]
  },
  {
   "cell_type": "code",
   "execution_count": null,
   "metadata": {},
   "outputs": [],
   "source": []
  }
 ],
 "metadata": {
  "kernelspec": {
   "display_name": "Python 3",
   "language": "python",
   "name": "python3"
  },
  "language_info": {
   "codemirror_mode": {
    "name": "ipython",
    "version": 3
   },
   "file_extension": ".py",
   "mimetype": "text/x-python",
   "name": "python",
   "nbconvert_exporter": "python",
   "pygments_lexer": "ipython3",
   "version": "3.7.3"
  }
 },
 "nbformat": 4,
 "nbformat_minor": 2
}
