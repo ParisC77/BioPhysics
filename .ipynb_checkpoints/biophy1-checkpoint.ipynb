{
 "cells": [
  {
   "cell_type": "code",
   "execution_count": 1,
   "metadata": {},
   "outputs": [],
   "source": [
    "import pandas as pd \n",
    "import numpy as np\n",
    "import matplotlib.pyplot as plt"
   ]
  },
  {
   "cell_type": "code",
   "execution_count": 2,
   "metadata": {},
   "outputs": [],
   "source": [
    "x = np.array([1.10802, 1.11728, 1.11822, 1.41673, 1.11502, 1.42573, 1.4045,\n",
    "1.15776, 1.27401, 1.49298, 1.69129, 1.82945, 1.74465, 1.68327, \n",
    "2.19205, 1.95709, 2.46481, 2.7223, 2.57461, 2.86242, 2.95612, \n",
    "3.15464, 2.40653, 3.10984, 2.80542, 3.14424, 3.36435, 3.91047,\n",
    "4.14505, 3.69943, 4.57045, 4.51127, 4.51629, 5.64199, 5.73487, \n",
    "5.46627, 6.01828, 7.09173, 7.95379, 6.99355, 6.41825, 8.20225, \n",
    "9.01444, 8.46816, 8.21011, 8.90658, 11.0879, 9.2622, 10.4495, \n",
    "12.9083, 11.8925, 13.2636, 12.5778, 11.0473, 15.626, 14.9972, \n",
    "13.2382, 17.1036, 17.7396, 14.8065, 21.9717, 26.4786, 22.6905, \n",
    "26.591, 22.1608, 27.4422, 27.8779, 24.2477, 30.7262, 29.217, 31.9318, \n",
    "33.7022, 34.2924, 40.5041, 43.2098, 36.6913, 41.0783, 54.4258, \n",
    "55.6209, 51.5219, 59.8086, 65.0856, 64.5397, 59.4028, 57.5603, \n",
    "71.7194, 76.1325, 68.1546, 100.948, 84.0382, 87.2943, 85.6649, \n",
    "109.798, 107.744, 94.2173, 116.248, 125.251, 132.485, 128.824, \n",
    "108.217, 141.739])"
   ]
  },
  {
   "cell_type": "code",
   "execution_count": 3,
   "metadata": {},
   "outputs": [],
   "source": [
    "y = np.array([1.30044, 1.23869, 1.36949, 2.14974, 0.858733, 2.01281, 2.42677, \n",
    "1.26315, 1.55718, 2.63512, 3.99452, 4.38319, 4.08096, 2.66354, \n",
    "7.45118, 4.04379, 7.90486, 8.94583, 8.27906, 7.12225, 12.552, \n",
    "12.6929, 8.80975, 11.2889, 10.8519, 9.33434, 12.556, 12.7472, \n",
    "28.3782, 20.6395, 27.559, 24.7396, 36.1116, 34.5361, 40.1341, \n",
    "46.5289, 54.9902, 83.1943, 70.3283, 72.1396, 67.7579, 107.281, \n",
    "120.797, 67.1519, 94.8022, 189.004, 175.421, 147.527, 206.48, \n",
    "228.242, 278.958, 410.705, 230.151, 241.578, 395.158, 477.061, \n",
    "348.268, 688.003, 650.301, 313.325, 778.854, 1763.92, 967.239, \n",
    "1270.9, 1052.5, 1524.98, 1592.58, 1372.14, 1607.04, 1907.05, 1674.94, \n",
    "2523.26, 2677.5, 3719.08, 4871.39, 3488.1, 3860.16, 7303.05, 5921.96, \n",
    "6019.89, 7727.85, 6431.34, 12705.4, 5543.29, 5453.41, 9957.41, \n",
    "14052.7, 14824., 30992.2, 15802.4, 23270.5, 15573.9, 25508.1, \n",
    "39619.3, 30865.6, 36150.1, 59538.8, 55924., 57329.9, 37889.7, 46318.6])"
   ]
  },
  {
   "cell_type": "code",
   "execution_count": 4,
   "metadata": {},
   "outputs": [],
   "source": [
    "z = np.array([-0.0899257, 0.886012, 0.550276, 1.19885, 0.0319651, 0.722617, \n",
    "0.733178, -0.262161, 0.450186, 0.817312, 0.919557, 1.53605, 1.55903, \n",
    "1.46336, 1.70752, 0.687074, 1.57838, 1.7039, 1.86517, 1.83306, \n",
    "1.78212, 2.2256, 1.70985, 2.10209, 2.31793, 2.27232, 2.19322, 2.806, \n",
    "2.34042, 1.97624, 2.70083, 2.9508, 2.51074, 2.84905, 3.02005, 3.0869, \n",
    "3.20247, 3.29357, 3.3167, 3.41397, 3.15279, 4.10689, 4.01924, 4.1859, \n",
    "3.31084, 3.46774, 3.7853, 3.83439, 3.9141, 3.00224, 4.03801, 3.57954, \n",
    "4.25713, 3.26698, 3.85445, 3.70393, 3.6981, 4.503, 4.46369, 3.76639, \n",
    "4.05146, 4.65976, 4.24334, 4.57995, 4.20296, 4.79537, 4.63364, \n",
    "4.03693, 4.21414, 4.35296, 4.30538, 4.60619, 3.93379, 4.35452, \n",
    "4.57401, 4.55382, 4.1907, 4.93224, 4.2158, 4.48056, 4.8111, 4.34162, \n",
    "4.49627, 4.02708, 5.10107, 4.70446, 4.16769, 4.69053, 4.84787, \n",
    "5.05365, 4.82035, 5.01299, 4.73584, 4.89606, 4.85278, 4.76974, \n",
    "4.18527, 4.68767, 4.3488, 4.60231, 5.10109])"
   ]
  },
  {
   "cell_type": "code",
   "execution_count": 5,
   "metadata": {},
   "outputs": [
    {
     "data": {
      "text/plain": [
       "array([False, False, False, False, False, False, False, False, False,\n",
       "       False, False, False, False, False, False, False, False, False,\n",
       "       False, False, False, False, False, False, False, False, False,\n",
       "       False, False, False, False, False, False, False, False, False,\n",
       "       False, False, False, False, False, False, False, False, False,\n",
       "       False, False, False, False, False, False, False, False, False,\n",
       "       False, False, False, False, False, False, False, False, False,\n",
       "       False, False, False, False, False, False, False, False, False,\n",
       "       False, False, False, False, False, False, False, False, False,\n",
       "       False, False, False, False, False, False, False, False, False,\n",
       "       False, False, False, False, False, False, False, False, False,\n",
       "       False, False])"
      ]
     },
     "execution_count": 5,
     "metadata": {},
     "output_type": "execute_result"
    }
   ],
   "source": [
    "y == x"
   ]
  },
  {
   "cell_type": "code",
   "execution_count": 6,
   "metadata": {},
   "outputs": [
    {
     "data": {
      "text/plain": [
       "[<matplotlib.lines.Line2D at 0x233d134d1f0>]"
      ]
     },
     "execution_count": 6,
     "metadata": {},
     "output_type": "execute_result"
    },
    {
     "data": {
      "image/png": "[encoded data removed]",
      "text/plain": [
       "<Figure size 432x288 with 1 Axes>"
      ]
     },
     "metadata": {
      "needs_background": "light"
     },
     "output_type": "display_data"
    }
   ],
   "source": [
    "plt.plot(x,y)"
   ]
  },
  {
   "cell_type": "code",
   "execution_count": null,
   "metadata": {},
   "outputs": [],
   "source": []
  },
  {
   "cell_type": "code",
   "execution_count": 7,
   "metadata": {},
   "outputs": [
    {
     "ename": "NameError",
     "evalue": "name 'indices' is not defined",
     "output_type": "error",
     "traceback": [
      "\u001b[1;31m---------------------------------------------------------------------------\u001b[0m",
      "\u001b[1;31mNameError\u001b[0m                                 Traceback (most recent call last)",
      "\u001b[1;32m<ipython-input-7-e48decdcb3c1>\u001b[0m in \u001b[0;36m<module>\u001b[1;34m\u001b[0m\n\u001b[1;32m----> 1\u001b[1;33m \u001b[0mindices\u001b[0m\u001b[1;33m\u001b[0m\u001b[1;33m\u001b[0m\u001b[0m\n\u001b[0m",
      "\u001b[1;31mNameError\u001b[0m: name 'indices' is not defined"
     ]
    }
   ],
   "source": [
    "indices"
   ]
  },
  {
   "cell_type": "code",
   "execution_count": 58,
   "metadata": {},
   "outputs": [
    {
     "data": {
      "text/plain": [
       "array([1.10802, 1.11728, 1.11822, 1.41673, 1.11502])"
      ]
     },
     "execution_count": 58,
     "metadata": {},
     "output_type": "execute_result"
    }
   ],
   "source": [
    "x[indices[0:5]]"
   ]
  },
  {
   "cell_type": "code",
   "execution_count": 75,
   "metadata": {},
   "outputs": [],
   "source": [
    "indices_triés = np.argsort(x, None)"
   ]
  },
  {
   "cell_type": "code",
   "execution_count": 76,
   "metadata": {},
   "outputs": [
    {
     "data": {
      "text/plain": [
       "array([  0,   4,   1,   2,   7,   8,   6,   3,   5,   9,  13,  10,  12,\n",
       "        11,  15,  14,  22,  16,  18,  17,  24,  19,  20,  23,  25,  21,\n",
       "        26,  29,  27,  28,  31,  32,  30,  35,  33,  34,  36,  40,  39,\n",
       "        37,  38,  41,  44,  43,  45,  42,  47,  48,  53,  46,  50,  52,\n",
       "        49,  56,  51,  59,  55,  54,  57,  58,  60,  64,  62,  67,  61,\n",
       "        63,  65,  66,  69,  68,  70,  71,  72,  75,  73,  76,  74,  79,\n",
       "        77,  78,  84,  83,  80,  82,  81,  87,  85,  86,  89,  91,  90,\n",
       "        94,  88,  93,  99,  92,  95,  96,  98,  97, 100])"
      ]
     },
     "execution_count": 76,
     "metadata": {},
     "output_type": "execute_result"
    }
   ],
   "source": [
    "indices_triés"
   ]
  },
  {
   "cell_type": "code",
   "execution_count": 78,
   "metadata": {},
   "outputs": [
    {
     "data": {
      "text/plain": [
       "array([1.30044e+00, 8.58733e-01, 1.23869e+00, 1.36949e+00, 1.26315e+00,\n",
       "       1.55718e+00, 2.42677e+00, 2.14974e+00, 2.01281e+00, 2.63512e+00,\n",
       "       2.66354e+00, 3.99452e+00, 4.08096e+00, 4.38319e+00, 4.04379e+00,\n",
       "       7.45118e+00, 8.80975e+00, 7.90486e+00, 8.27906e+00, 8.94583e+00,\n",
       "       1.08519e+01, 7.12225e+00, 1.25520e+01, 1.12889e+01, 9.33434e+00,\n",
       "       1.26929e+01, 1.25560e+01, 2.06395e+01, 1.27472e+01, 2.83782e+01,\n",
       "       2.47396e+01, 3.61116e+01, 2.75590e+01, 4.65289e+01, 3.45361e+01,\n",
       "       4.01341e+01, 5.49902e+01, 6.77579e+01, 7.21396e+01, 8.31943e+01,\n",
       "       7.03283e+01, 1.07281e+02, 9.48022e+01, 6.71519e+01, 1.89004e+02,\n",
       "       1.20797e+02, 1.47527e+02, 2.06480e+02, 2.41578e+02, 1.75421e+02,\n",
       "       2.78958e+02, 2.30151e+02, 2.28242e+02, 3.48268e+02, 4.10705e+02,\n",
       "       3.13325e+02, 4.77061e+02, 3.95158e+02, 6.88003e+02, 6.50301e+02,\n",
       "       7.78854e+02, 1.05250e+03, 9.67239e+02, 1.37214e+03, 1.76392e+03,\n",
       "       1.27090e+03, 1.52498e+03, 1.59258e+03, 1.90705e+03, 1.60704e+03,\n",
       "       1.67494e+03, 2.52326e+03, 2.67750e+03, 3.48810e+03, 3.71908e+03,\n",
       "       3.86016e+03, 4.87139e+03, 6.01989e+03, 7.30305e+03, 5.92196e+03,\n",
       "       5.45341e+03, 5.54329e+03, 7.72785e+03, 1.27054e+04, 6.43134e+03,\n",
       "       1.48240e+04, 9.95741e+03, 1.40527e+04, 1.58024e+04, 1.55739e+04,\n",
       "       2.32705e+04, 3.08656e+04, 3.09922e+04, 3.96193e+04, 3.78897e+04,\n",
       "       2.55081e+04, 3.61501e+04, 5.95388e+04, 5.73299e+04, 5.59240e+04,\n",
       "       4.63186e+04])"
      ]
     },
     "execution_count": 78,
     "metadata": {},
     "output_type": "execute_result"
    }
   ],
   "source": [
    "y[indices_triés]"
   ]
  },
  {
   "cell_type": "code",
   "execution_count": 79,
   "metadata": {},
   "outputs": [],
   "source": [
    "x_trié = np.sort(x)"
   ]
  },
  {
   "cell_type": "code",
   "execution_count": 82,
   "metadata": {},
   "outputs": [],
   "source": [
    "y_trié = y[indices_triés]"
   ]
  },
  {
   "cell_type": "code",
   "execution_count": 83,
   "metadata": {},
   "outputs": [
    {
     "data": {
      "text/plain": [
       "[<matplotlib.lines.Line2D at 0x1025a90310>]"
      ]
     },
     "execution_count": 83,
     "metadata": {},
     "output_type": "execute_result"
    },
    {
     "data": {
      "image/png": "[encoded data removed]",
      "text/plain": [
       "<Figure size 432x288 with 1 Axes>"
      ]
     },
     "metadata": {
      "needs_background": "light"
     },
     "output_type": "display_data"
    }
   ],
   "source": [
    "plt.plot(x_trié,y_trié)"
   ]
  },
  {
   "cell_type": "code",
   "execution_count": 84,
   "metadata": {},
   "outputs": [],
   "source": [
    "z_trié = z[indices_triés]"
   ]
  },
  {
   "cell_type": "code",
   "execution_count": null,
   "metadata": {},
   "outputs": [],
   "source": []
  },
  {
   "cell_type": "code",
   "execution_count": 85,
   "metadata": {},
   "outputs": [
    {
     "data": {
      "text/plain": [
       "[<matplotlib.lines.Line2D at 0x1025b7b850>]"
      ]
     },
     "execution_count": 85,
     "metadata": {},
     "output_type": "execute_result"
    },
    {
     "data": {
      "image/png": "[encoded data removed]",
      "text/plain": [
       "<Figure size 432x288 with 1 Axes>"
      ]
     },
     "metadata": {
      "needs_background": "light"
     },
     "output_type": "display_data"
    }
   ],
   "source": [
    "plt.plot(x_trié,z_trié)"
   ]
  },
  {
   "cell_type": "code",
   "execution_count": 87,
   "metadata": {},
   "outputs": [],
   "source": [
    "from scipy.optimize import curve_fit"
   ]
  },
  {
   "cell_type": "code",
   "execution_count": 126,
   "metadata": {},
   "outputs": [
    {
     "name": "stdout",
     "output_type": "stream",
     "text": [
      "[1.7405129  0.23779146]\n"
     ]
    }
   ],
   "source": [
    "def fit_func(x, a, b):\n",
    "    return a*np.tanh(b*np.log(x))\n",
    "pars, cov = curve_fit(f=power_law, xdata=x_trié, ydata=z_trié, bounds=(-np.inf, np.inf))\n",
    "print(pars2)"
   ]
  },
  {
   "cell_type": "code",
   "execution_count": 96,
   "metadata": {},
   "outputs": [
    {
     "name": "stdout",
     "output_type": "stream",
     "text": [
      "[1.04320302 2.21751452]\n"
     ]
    }
   ],
   "source": [
    "def power_law(x, a, b):\n",
    "    return a*np.power(x, b)\n",
    "pars, cov = curve_fit(f=power_law, xdata=x_trié, ydata=y_trié, bounds=(-np.inf, np.inf))\n",
    "print(pars)"
   ]
  },
  {
   "cell_type": "code",
   "execution_count": 109,
   "metadata": {},
   "outputs": [],
   "source": [
    "y_fit = pars[0]*(x_trié)**pars[1]"
   ]
  },
  {
   "cell_type": "code",
   "execution_count": 110,
   "metadata": {},
   "outputs": [
    {
     "data": {
      "text/plain": [
       "[<matplotlib.lines.Line2D at 0x1026225a10>]"
      ]
     },
     "execution_count": 110,
     "metadata": {},
     "output_type": "execute_result"
    },
    {
     "data": {
      "image/png": "[encoded data removed]",
      "text/plain": [
       "<Figure size 432x288 with 1 Axes>"
      ]
     },
     "metadata": {
      "needs_background": "light"
     },
     "output_type": "display_data"
    }
   ],
   "source": [
    "plt.plot(x_trié, y_trié)\n",
    "plt.plot(x_trié, y_fit)"
   ]
  },
  {
   "cell_type": "code",
   "execution_count": 124,
   "metadata": {},
   "outputs": [],
   "source": [
    "z_fit = pars2[0]*np.tanh(pars2[1]*np.log(x_trié))"
   ]
  },
  {
   "cell_type": "code",
   "execution_count": 120,
   "metadata": {},
   "outputs": [
    {
     "data": {
      "text/plain": [
       "[<matplotlib.lines.Line2D at 0x1026401f50>]"
      ]
     },
     "execution_count": 120,
     "metadata": {},
     "output_type": "execute_result"
    },
    {
     "data": {
      "image/png": "[encoded data removed]",
      "text/plain": [
       "<Figure size 432x288 with 1 Axes>"
      ]
     },
     "metadata": {
      "needs_background": "light"
     },
     "output_type": "display_data"
    }
   ],
   "source": [
    "plt.plot(x_trié, z_trié)\n",
    "plt.plot(x_trié, z_fit)"
   ]
  },
  {
   "cell_type": "code",
   "execution_count": null,
   "metadata": {},
   "outputs": [],
   "source": []
  }
 ],
 "metadata": {
  "kernelspec": {
   "display_name": "Python 3",
   "language": "python",
   "name": "python3"
  },
  "language_info": {
   "codemirror_mode": {
    "name": "ipython",
    "version": 3
   },
   "file_extension": ".py",
   "mimetype": "text/x-python",
   "name": "python",
   "nbconvert_exporter": "python",
   "pygments_lexer": "ipython3",
   "version": "3.8.3"
  }
 },
 "nbformat": 4,
 "nbformat_minor": 4
}
